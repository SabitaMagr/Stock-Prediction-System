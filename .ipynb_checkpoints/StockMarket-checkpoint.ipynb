{
 "cells": [
  {
   "cell_type": "markdown",
   "id": "f08ac9cd-d738-4237-8722-6c049b364411",
   "metadata": {},
   "source": [
    "**1.Import Libraries**"
   ]
  },
  {
   "cell_type": "code",
   "execution_count": 1,
   "id": "c7277eae-3c7e-4a5a-bbad-2ec7fb4e5e61",
   "metadata": {},
   "outputs": [],
   "source": [
    "import os \n",
    "import numpy as np\n",
    "import pandas as pd\n",
    "import math\n",
    "import matplotlib.pyplot as plt \n",
    "import tensorflow as tf\n",
    "%matplotlib inline\n",
    "\n",
    "import seaborn as sns\n",
    "sns.set_theme(style=\"whitegrid\")\n",
    "\n",
    "import warnings\n",
    "warnings.filterwarnings(\"ignore\")"
   ]
  },
  {
   "cell_type": "markdown",
   "id": "16643bcf-8058-4cfb-9283-03623ebce8c2",
   "metadata": {},
   "source": [
    "**2.Load Training Dataset**"
   ]
  },
  {
   "cell_type": "code",
   "execution_count": 2,
   "id": "74ae95b5-a04f-497b-8ba0-52204aa45525",
   "metadata": {},
   "outputs": [
    {
     "data": {
      "text/html": [
       "<div>\n",
       "<style scoped>\n",
       "    .dataframe tbody tr th:only-of-type {\n",
       "        vertical-align: middle;\n",
       "    }\n",
       "\n",
       "    .dataframe tbody tr th {\n",
       "        vertical-align: top;\n",
       "    }\n",
       "\n",
       "    .dataframe thead th {\n",
       "        text-align: right;\n",
       "    }\n",
       "</style>\n",
       "<table border=\"1\" class=\"dataframe\">\n",
       "  <thead>\n",
       "    <tr style=\"text-align: right;\">\n",
       "      <th></th>\n",
       "      <th>Open</th>\n",
       "      <th>High</th>\n",
       "      <th>Low</th>\n",
       "      <th>Close</th>\n",
       "      <th>Percent Change</th>\n",
       "      <th>Volume</th>\n",
       "    </tr>\n",
       "    <tr>\n",
       "      <th>Date</th>\n",
       "      <th></th>\n",
       "      <th></th>\n",
       "      <th></th>\n",
       "      <th></th>\n",
       "      <th></th>\n",
       "      <th></th>\n",
       "    </tr>\n",
       "  </thead>\n",
       "  <tbody>\n",
       "    <tr>\n",
       "      <th>2024-08-01</th>\n",
       "      <td>2772.24</td>\n",
       "      <td>2805.57</td>\n",
       "      <td>2742.53</td>\n",
       "      <td>2755.62</td>\n",
       "      <td>-0.19%</td>\n",
       "      <td>21,713,431,007.74</td>\n",
       "    </tr>\n",
       "    <tr>\n",
       "      <th>2024-07-31</th>\n",
       "      <td>2708.25</td>\n",
       "      <td>2791.02</td>\n",
       "      <td>2707.57</td>\n",
       "      <td>2760.90</td>\n",
       "      <td>2.38%</td>\n",
       "      <td>21,911,503,161.06</td>\n",
       "    </tr>\n",
       "    <tr>\n",
       "      <th>2024-07-30</th>\n",
       "      <td>2669.41</td>\n",
       "      <td>2709.89</td>\n",
       "      <td>2609.02</td>\n",
       "      <td>2696.65</td>\n",
       "      <td>1.33%</td>\n",
       "      <td>17,266,391,542.97</td>\n",
       "    </tr>\n",
       "    <tr>\n",
       "      <th>2024-07-29</th>\n",
       "      <td>2706.73</td>\n",
       "      <td>2737.68</td>\n",
       "      <td>2655.15</td>\n",
       "      <td>2661.09</td>\n",
       "      <td>-0.76%</td>\n",
       "      <td>19,609,177,106.29</td>\n",
       "    </tr>\n",
       "    <tr>\n",
       "      <th>2024-07-28</th>\n",
       "      <td>2606.42</td>\n",
       "      <td>2708.58</td>\n",
       "      <td>2606.40</td>\n",
       "      <td>2681.56</td>\n",
       "      <td>4.41%</td>\n",
       "      <td>15,810,596,235.45</td>\n",
       "    </tr>\n",
       "  </tbody>\n",
       "</table>\n",
       "</div>"
      ],
      "text/plain": [
       "               Open     High      Low    Close Percent Change  \\\n",
       "Date                                                            \n",
       "2024-08-01  2772.24  2805.57  2742.53  2755.62         -0.19%   \n",
       "2024-07-31  2708.25  2791.02  2707.57  2760.90          2.38%   \n",
       "2024-07-30  2669.41  2709.89  2609.02  2696.65          1.33%   \n",
       "2024-07-29  2706.73  2737.68  2655.15  2661.09         -0.76%   \n",
       "2024-07-28  2606.42  2708.58  2606.40  2681.56          4.41%   \n",
       "\n",
       "                       Volume  \n",
       "Date                           \n",
       "2024-08-01  21,713,431,007.74  \n",
       "2024-07-31  21,911,503,161.06  \n",
       "2024-07-30  17,266,391,542.97  \n",
       "2024-07-29  19,609,177,106.29  \n",
       "2024-07-28  15,810,596,235.45  "
      ]
     },
     "execution_count": 2,
     "metadata": {},
     "output_type": "execute_result"
    }
   ],
   "source": [
    "data=pd.read_csv(\"data.csv\")\n",
    "data['Date']=pd.to_datetime(data['Date']).dt.date\n",
    "data.set_index(\"Date\",inplace=True)\n",
    "data.head()"
   ]
  },
  {
   "cell_type": "code",
   "execution_count": 3,
   "id": "4a875313-98ec-4b35-b1bd-168e8c7ff68b",
   "metadata": {},
   "outputs": [],
   "source": [
    "output_dir_path=\"/results/\""
   ]
  },
  {
   "cell_type": "markdown",
   "id": "8773a99f-9e9b-4965-a654-b486dbb39445",
   "metadata": {},
   "source": [
    "**3.Visualization of response variable**"
   ]
  },
  {
   "cell_type": "code",
   "execution_count": 3,
   "id": "a2ba6e92-8d69-42e1-afcc-adc8a9907df2",
   "metadata": {},
   "outputs": [
    {
     "name": "stdout",
     "output_type": "stream",
     "text": [
      "[[  7.2325  ]\n",
      " [  7.355357]\n",
      " [  7.3875  ]\n",
      " ...\n",
      " [224.369995]\n",
      " [224.      ]\n",
      " [218.869995]]\n",
      "(3650, 1)\n"
     ]
    }
   ],
   "source": [
    "training_set=dataset_train.iloc[:,1:2].values\n",
    "print(training_set)\n",
    "print(training_set.shape)"
   ]
  },
  {
   "cell_type": "markdown",
   "id": "e46ca2f2-9eb0-4f83-9e77-ea32f2ca4ac4",
   "metadata": {},
   "source": [
    "**4.Normalizing the dataset**"
   ]
  },
  {
   "cell_type": "code",
   "execution_count": 4,
   "id": "8944fb8e-a343-4f66-97e1-84094c055bb8",
   "metadata": {},
   "outputs": [
    {
     "data": {
      "text/plain": [
       "array([[0.00157721],\n",
       "       [0.00211228],\n",
       "       [0.00225227],\n",
       "       ...,\n",
       "       [0.94725831],\n",
       "       [0.9456469 ],\n",
       "       [0.92330461]])"
      ]
     },
     "execution_count": 4,
     "metadata": {},
     "output_type": "execute_result"
    }
   ],
   "source": [
    "from sklearn.preprocessing import MinMaxScaler\n",
    "\n",
    "scaler=MinMaxScaler(feature_range=(0,1))\n",
    "scaled_training_set=scaler.fit_transform(training_set)\n",
    "scaled_training_set"
   ]
  },
  {
   "cell_type": "markdown",
   "id": "7b4a865c-322e-4c6d-b1cd-a8e540b4cd55",
   "metadata": {},
   "source": [
    "**5.Creating x_train and y_train data structures**"
   ]
  },
  {
   "cell_type": "code",
   "execution_count": 5,
   "id": "d3ab5f21-0b07-4fc0-994f-3b89c185638b",
   "metadata": {},
   "outputs": [
    {
     "name": "stdout",
     "output_type": "stream",
     "text": [
      "(1198, 60)\n",
      "(1198,)\n"
     ]
    }
   ],
   "source": [
    "X_train=[]\n",
    "Y_train=[]\n",
    "for i in range(60,1258):\n",
    "    X_train.append(scaled_training_set[i-60:i,0])\n",
    "    Y_train.append(scaled_training_set[i,0])\n",
    "X_train=np.array(X_train)\n",
    "Y_train=np.array(Y_train)\n",
    "print (X_train.shape)\n",
    "print(Y_train.shape)"
   ]
  },
  {
   "cell_type": "markdown",
   "id": "522410bc-cdcd-4d02-8776-3238f3b67e51",
   "metadata": {},
   "source": [
    "**6.Reshape the data**"
   ]
  },
  {
   "cell_type": "code",
   "execution_count": 6,
   "id": "8fb5d80f-9912-417c-bb3f-73fada2b0a13",
   "metadata": {},
   "outputs": [
    {
     "data": {
      "text/plain": [
       "(1198, 60, 1)"
      ]
     },
     "execution_count": 6,
     "metadata": {},
     "output_type": "execute_result"
    }
   ],
   "source": [
    "X_train=np.reshape(X_train,(X_train.shape[0],X_train.shape[1],1))\n",
    "X_train.shape"
   ]
  },
  {
   "cell_type": "markdown",
   "id": "73ddb53f-f706-4b47-887e-5f9faad948c0",
   "metadata": {},
   "source": [
    "**7.Building MOdel by importimg crucial libraries and adding diff layes to oLSTM**"
   ]
  },
  {
   "cell_type": "code",
   "execution_count": 14,
   "id": "36e73cb6-c310-4ec8-a103-e15bdd50fbe6",
   "metadata": {},
   "outputs": [],
   "source": [
    "from keras.models import Sequential \n",
    "from keras.layers import LSTM\n",
    "from keras.layers import Dense\n",
    "from keras.layers import Dropout"
   ]
  },
  {
   "cell_type": "code",
   "execution_count": null,
   "id": "686260d8-1a99-4a30-a6aa-90ef48e47529",
   "metadata": {},
   "outputs": [],
   "source": []
  },
  {
   "cell_type": "code",
   "execution_count": null,
   "id": "ea571fe2-456c-4eda-9bca-4e33e521a0fe",
   "metadata": {},
   "outputs": [],
   "source": []
  }
 ],
 "metadata": {
  "kernelspec": {
   "display_name": "Python 3 (ipykernel)",
   "language": "python",
   "name": "python3"
  },
  "language_info": {
   "codemirror_mode": {
    "name": "ipython",
    "version": 3
   },
   "file_extension": ".py",
   "mimetype": "text/x-python",
   "name": "python",
   "nbconvert_exporter": "python",
   "pygments_lexer": "ipython3",
   "version": "3.10.11"
  }
 },
 "nbformat": 4,
 "nbformat_minor": 5
}
