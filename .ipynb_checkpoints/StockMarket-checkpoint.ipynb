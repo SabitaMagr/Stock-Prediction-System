{
 "cells": [
  {
   "cell_type": "markdown",
   "id": "f08ac9cd-d738-4237-8722-6c049b364411",
   "metadata": {},
   "source": [
    "**1.Import Libraries**"
   ]
  },
  {
   "cell_type": "code",
   "execution_count": 2,
   "id": "c7277eae-3c7e-4a5a-bbad-2ec7fb4e5e61",
   "metadata": {},
   "outputs": [],
   "source": [
    "import os \n",
    "import numpy as np\n",
    "import pandas as pd\n",
    "import math\n",
    "import matplotlib.pyplot as plt \n",
    "import tensorflow as tf\n",
    "%matplotlib inline\n",
    "\n",
    "import seaborn as sns\n",
    "sns.set_theme(style=\"whitegrid\")\n",
    "\n",
    "import warnings\n",
    "warnings.filterwarnings(\"ignore\")"
   ]
  },
  {
   "cell_type": "markdown",
   "id": "16643bcf-8058-4cfb-9283-03623ebce8c2",
   "metadata": {},
   "source": [
    "**2.Load Training Dataset**"
   ]
  },
  {
   "cell_type": "code",
   "execution_count": 3,
   "id": "74ae95b5-a04f-497b-8ba0-52204aa45525",
   "metadata": {},
   "outputs": [
    {
     "data": {
      "text/html": [
       "<div>\n",
       "<style scoped>\n",
       "    .dataframe tbody tr th:only-of-type {\n",
       "        vertical-align: middle;\n",
       "    }\n",
       "\n",
       "    .dataframe tbody tr th {\n",
       "        vertical-align: top;\n",
       "    }\n",
       "\n",
       "    .dataframe thead th {\n",
       "        text-align: right;\n",
       "    }\n",
       "</style>\n",
       "<table border=\"1\" class=\"dataframe\">\n",
       "  <thead>\n",
       "    <tr style=\"text-align: right;\">\n",
       "      <th></th>\n",
       "      <th>Open</th>\n",
       "      <th>High</th>\n",
       "      <th>Low</th>\n",
       "      <th>Close</th>\n",
       "      <th>Percent Change</th>\n",
       "      <th>Volume</th>\n",
       "    </tr>\n",
       "    <tr>\n",
       "      <th>Date</th>\n",
       "      <th></th>\n",
       "      <th></th>\n",
       "      <th></th>\n",
       "      <th></th>\n",
       "      <th></th>\n",
       "      <th></th>\n",
       "    </tr>\n",
       "  </thead>\n",
       "  <tbody>\n",
       "    <tr>\n",
       "      <th>2024-08-01</th>\n",
       "      <td>2772.24</td>\n",
       "      <td>2805.57</td>\n",
       "      <td>2742.53</td>\n",
       "      <td>2755.62</td>\n",
       "      <td>-0.19%</td>\n",
       "      <td>21,713,431,007.74</td>\n",
       "    </tr>\n",
       "    <tr>\n",
       "      <th>2024-07-31</th>\n",
       "      <td>2708.25</td>\n",
       "      <td>2791.02</td>\n",
       "      <td>2707.57</td>\n",
       "      <td>2760.90</td>\n",
       "      <td>2.38%</td>\n",
       "      <td>21,911,503,161.06</td>\n",
       "    </tr>\n",
       "    <tr>\n",
       "      <th>2024-07-30</th>\n",
       "      <td>2669.41</td>\n",
       "      <td>2709.89</td>\n",
       "      <td>2609.02</td>\n",
       "      <td>2696.65</td>\n",
       "      <td>1.33%</td>\n",
       "      <td>17,266,391,542.97</td>\n",
       "    </tr>\n",
       "    <tr>\n",
       "      <th>2024-07-29</th>\n",
       "      <td>2706.73</td>\n",
       "      <td>2737.68</td>\n",
       "      <td>2655.15</td>\n",
       "      <td>2661.09</td>\n",
       "      <td>-0.76%</td>\n",
       "      <td>19,609,177,106.29</td>\n",
       "    </tr>\n",
       "    <tr>\n",
       "      <th>2024-07-28</th>\n",
       "      <td>2606.42</td>\n",
       "      <td>2708.58</td>\n",
       "      <td>2606.40</td>\n",
       "      <td>2681.56</td>\n",
       "      <td>4.41%</td>\n",
       "      <td>15,810,596,235.45</td>\n",
       "    </tr>\n",
       "  </tbody>\n",
       "</table>\n",
       "</div>"
      ],
      "text/plain": [
       "               Open     High      Low    Close Percent Change  \\\n",
       "Date                                                            \n",
       "2024-08-01  2772.24  2805.57  2742.53  2755.62         -0.19%   \n",
       "2024-07-31  2708.25  2791.02  2707.57  2760.90          2.38%   \n",
       "2024-07-30  2669.41  2709.89  2609.02  2696.65          1.33%   \n",
       "2024-07-29  2706.73  2737.68  2655.15  2661.09         -0.76%   \n",
       "2024-07-28  2606.42  2708.58  2606.40  2681.56          4.41%   \n",
       "\n",
       "                       Volume  \n",
       "Date                           \n",
       "2024-08-01  21,713,431,007.74  \n",
       "2024-07-31  21,911,503,161.06  \n",
       "2024-07-30  17,266,391,542.97  \n",
       "2024-07-29  19,609,177,106.29  \n",
       "2024-07-28  15,810,596,235.45  "
      ]
     },
     "execution_count": 3,
     "metadata": {},
     "output_type": "execute_result"
    }
   ],
   "source": [
    "data=pd.read_csv(\"data.csv\")\n",
    "data['Date']=pd.to_datetime(data['Date']).dt.date\n",
    "data.set_index(\"Date\",inplace=True)\n",
    "data.head()"
   ]
  },
  {
   "cell_type": "code",
   "execution_count": 4,
   "id": "4a875313-98ec-4b35-b1bd-168e8c7ff68b",
   "metadata": {},
   "outputs": [],
   "source": [
    "output_dir_path = \"E:\\\\Desktop\\\\Final Project\\\\results\\\\\""
   ]
  },
  {
   "cell_type": "markdown",
   "id": "8773a99f-9e9b-4965-a654-b486dbb39445",
   "metadata": {},
   "source": [
    "**3.Visualization of response variable**"
   ]
  },
  {
   "cell_type": "code",
   "execution_count": 5,
   "id": "a2ba6e92-8d69-42e1-afcc-adc8a9907df2",
   "metadata": {},
   "outputs": [
    {
     "data": {
      "text/plain": [
       "<function matplotlib.pyplot.show(close=None, block=None)>"
      ]
     },
     "execution_count": 5,
     "metadata": {},
     "output_type": "execute_result"
    },
    {
     "data": {
      "text/plain": [
       "<Figure size 1500x400 with 0 Axes>"
      ]
     },
     "metadata": {},
     "output_type": "display_data"
    },
    {
     "data": {
      "image/png": "[encoded data removed]",
      "text/plain": [
       "<Figure size 1000x500 with 1 Axes>"
      ]
     },
     "metadata": {},
     "output_type": "display_data"
    }
   ],
   "source": [
    "df=data.copy() #copy of dataframe data to df\n",
    "fin=plt.figure(figsize=(15,4))\n",
    "df['MA_20']=df['Close'].rolling(20).mean() #calculates 20 days moving average of the closing price cp\n",
    "df['MA_50']=df['Close'].rolling(50).mean()   #calculates 50days moving avearge of cp\n",
    "\n",
    "fig=plt.figure(figsize=(10,5))  # create new fig with size 10 inch by 5 inches\n",
    "fig.set(facecolor=\"white\")\n",
    "\n",
    "plt.plot(df['Close'],'k',label='NEPSE Close Price')   #plots the cp in balck('k') with label Nepse\n",
    "plt.plot(df['MA_20'],'g',label='20-day MA')           #plots 20 days movimng avg with green and lable as 20 days\n",
    "plt.plot(df['MA_50'],'b',label='50-day MA')           #plots 50 days movimng avg with blue and lable as 20 days\n",
    "\n",
    "plt.legend(['NEPSE Close Price','20-days Moving Avg','50-day Moving Avg'],loc='upper right')       #add legend to plot in upper right corner \n",
    "plt.title('NEPSE closing price and moving avg')  #set title of the plot\n",
    "plt.xlabel('Time(year-month)')           #labels the x-axis\n",
    "plt.ylabel('CLose Price')                #labels the y-axis\n",
    "\n",
    "#specify the path where plot image will be saved\n",
    "output_dir_path = \"E:\\\\Desktop\\\\Final Project\\\\results\\\\\"\n",
    "fig.savefig(output_dir_path + 'original_data_plus_moving_averages.png', dpi=600)     #save fig as png file\n",
    "plt.show"
   ]
  },
  {
   "cell_type": "markdown",
   "id": "db642eca-b738-4c3d-9d8a-fdcebe25e384",
   "metadata": {},
   "source": [
    "**4.Function to clean percentage strings and convert them to floats**"
   ]
  },
  {
   "cell_type": "code",
   "execution_count": 6,
   "id": "abcacb15-814d-4f94-bc1f-568680bc32e0",
   "metadata": {},
   "outputs": [],
   "source": [
    "def clean_percentage(column):\n",
    "    return column.replace('[\\%,]', '', regex=True).astype(float) / 100.0\n",
    "\n",
    "# Apply the function to all columns with percentage strings\n",
    "for col in data.columns:\n",
    "    if data[col].dtype == 'object':\n",
    "        try:\n",
    "            data[col] = clean_percentage(data[col])\n",
    "        except ValueError:\n",
    "            data[col] = pd.to_numeric(data[col], errors='coerce')\n",
    "\n",
    "# Drop rows with any NaN values\n",
    "data = data.dropna()"
   ]
  },
  {
   "cell_type": "code",
   "execution_count": 7,
   "id": "d040b6a1-095f-4534-acfa-15b2151f9f20",
   "metadata": {},
   "outputs": [
    {
     "name": "stdout",
     "output_type": "stream",
     "text": [
      "                Open  High  Low  Close  Percent Change  Volume\n",
      "Open             NaN   NaN  NaN    NaN             NaN     NaN\n",
      "High             NaN   NaN  NaN    NaN             NaN     NaN\n",
      "Low              NaN   NaN  NaN    NaN             NaN     NaN\n",
      "Close            NaN   NaN  NaN    NaN             NaN     NaN\n",
      "Percent Change   NaN   NaN  NaN    NaN             NaN     NaN\n",
      "Volume           NaN   NaN  NaN    NaN             NaN     NaN\n"
     ]
    }
   ],
   "source": [
    "correlation_matrix=data.corr()\n",
    "print(correlation_matrix)"
   ]
  },
  {
   "cell_type": "markdown",
   "id": "e46ca2f2-9eb0-4f83-9e77-ea32f2ca4ac4",
   "metadata": {},
   "source": [
    "**5.Correlation Heatmap**"
   ]
  },
  {
   "cell_type": "code",
   "execution_count": 8,
   "id": "8944fb8e-a343-4f66-97e1-84094c055bb8",
   "metadata": {},
   "outputs": [
    {
     "data": {
      "image/png": "[encoded data removed]",
      "text/plain": [
       "<Figure size 900x700 with 2 Axes>"
      ]
     },
     "metadata": {},
     "output_type": "display_data"
    }
   ],
   "source": [
    "fig=plt.figure(figsize=(9,7))  #create new fig with size 14 inch by 10 inches\n",
    "\n",
    "sns.heatmap(data.corr(),cmap='RdBu',vmin=-1,vmax=1,annot=True,annot_kws={\"size\":10},fmt='g')   # create correlation matrix of dataframe data and create heatmap using seaborn\n",
    "sns.set_style(\"whitegrid\")   #set white background color\n",
    "\n",
    "fig.savefig(output_dir_path+\"Correlation_heatmap.pdf\",dpi=600)  # save img as pdf "
   ]
  },
  {
   "cell_type": "markdown",
   "id": "7b4a865c-322e-4c6d-b1cd-a8e540b4cd55",
   "metadata": {},
   "source": [
    "**5.Machine Learning Libraries**"
   ]
  },
  {
   "cell_type": "code",
   "execution_count": 9,
   "id": "22eeab7d-e26a-4735-badf-0b70df26f77e",
   "metadata": {},
   "outputs": [],
   "source": [
    "import tensorflow\n",
    "from tensorflow.keras.models import Sequential\n",
    "from tensorflow.keras.layers import LSTM\n",
    "from tensorflow.keras.layers import GRU\n",
    "from tensorflow.keras.layers import Dense\n",
    "from tensorflow.keras.layers import Dropout\n",
    "from tensorflow.keras.layers import Conv2D,Dense,Dropout,Conv1D,MaxPooling2D,MaxPooling1D,Flatten\n",
    "from tensorflow.keras import optimizers\n",
    "from sklearn.preprocessing import MinMaxScaler\n",
    "from sklearn.metrics import mean_squared_error\n",
    "from sklearn.metrics import mean_absolute_error\n",
    "from sklearn.metrics import r2_score\n",
    "import time \n",
    "import ast\n",
    "import scipy"
   ]
  },
  {
   "cell_type": "markdown",
   "id": "522410bc-cdcd-4d02-8776-3238f3b67e51",
   "metadata": {},
   "source": [
    "**6.Supporting Functions**"
   ]
  },
  {
   "cell_type": "code",
   "execution_count": 10,
   "id": "8fb5d80f-9912-417c-bb3f-73fada2b0a13",
   "metadata": {},
   "outputs": [],
   "source": [
    "def mean_absolute_percentage_error(y_true,y_pred):    #calculate mean of absolute percentage error\n",
    "    return(np.mean(np.abs((y_true-y_pred)/(y_true))*100)) \n",
    "\n",
    "def calculate_scores(y_true,y_pred):    #calculate square root of mean square error\n",
    "    rmse=math.sqrt(mean_squared_error(y_true,y_pred))\n",
    "\n",
    "    R = np.corrcoef(y_true, y_pred)   #calculates correlation coffn matric betn true and predicted values\n",
    "\n",
    "    mape=mean_absolute_percentage_error(y_true,y_pred) #computes the mean absolute percentage error \n",
    "\n",
    "    dic={'rmse':rmse,'R':R[0,1],'mape':mape}\n",
    "    return (dic)\n",
    "\n",
    "def DatasetCreation(dataset,time_step=1):\n",
    "    #defining function that gives dataset\n",
    "    #time step which then returns the input and output data\n",
    "    DataX,DataY=[],[]\n",
    "    for i in range(len(dataset)-time_setp-1):\n",
    "        a=dataset[i:(I+time_setp),]\n",
    "        DataX.append(a)\n",
    "        DataY.append(dataset[i+time_setp,0])  #dataY contains close price\n",
    "        return np.array(DataX),np.array(DataY) #convert to numpy array and return \n",
    "\n",
    "def data_split(data,split=0.2):   #creating 80% training and 20% testing data \n",
    "    l1=int(len(data)*(1-split))\n",
    "    l2=len(data)-l1\n",
    "    data1=data.iloc[0:l1,:]   #contain first l1 rows of dataset\n",
    "    data2=data.iloc[1:len(data),:]    #contains remaining row from index l1 to end \n",
    "    return data1,data2\n",
    "\n",
    "def min_max_transform(data,feature_range=(0,1)):  #scale data using min max scaling betn 0 and 1\n",
    "    scaler=MinMaxScaler(feature_range)\n",
    "    return scaler.fit_transform(data)\n",
    "\n",
    "def min_max_inverse_transform(data_scaled,min_original,max_original): #reverse min-max scaling transform to original scale\n",
    "    return min_original+data_scaled*(max_original-min_original)\n",
    "\n",
    "def write_dic_to_file(dic_name,file_name):  #write content of dic to file\n",
    "    file=open(file_name,'w')\n",
    "    file.write(str(dic_name))\n",
    "    file.close()\n",
    "\n",
    "def read_dic_from_file(fil_name):   #read file content and convert to dictionary\n",
    "    file=open(file_name,\"r\")\n",
    "    contents=file.read()\n",
    "    dictionary=ast.literal_eval(contents)\n",
    "    file.close()\n",
    "    return dictionary"
   ]
  },
  {
   "cell_type": "markdown",
   "id": "73ddb53f-f706-4b47-887e-5f9faad948c0",
   "metadata": {},
   "source": [
    "**7.Building Deep Learning Models**"
   ]
  },
  {
   "cell_type": "markdown",
   "id": "14b48c10-2041-40c5-8a80-10449a2c68a2",
   "metadata": {},
   "source": [
    "**Model 1:Build and compile LSTM Model**"
   ]
  },
  {
   "cell_type": "code",
   "execution_count": 11,
   "id": "36e73cb6-c310-4ec8-a103-e15bdd50fbe6",
   "metadata": {},
   "outputs": [],
   "source": [
    "def Build_LSTM_Model(layers, time_step, num_features, optimizer = 'Adam', learning_rate = 0.001, verbose = 1):\n",
    "  \n",
    "  model = Sequential()\n",
    "    \n",
    "  for i in range(len(layers)):\n",
    "    if len(layers)==1:\n",
    "      model.add(LSTM(int(layers[i]), input_shape = (time_step, num_features)))\n",
    "    else:\n",
    "      if i < len(layers)-1:\n",
    "        if i == 0:\n",
    "          model.add(LSTM(int(layers[i]), input_shape=(time_step, num_features), return_sequences= True))\n",
    "          \n",
    "        else:\n",
    "          model.add(LSTM(int(layers[i]), return_sequences=True))\n",
    "          \n",
    "      else:\n",
    "        model.add(LSTM(int(layers[i])))\n",
    "        \n",
    "        \n",
    "          \n",
    "  model.add(Dense(1, activation = 'linear'))\n",
    "  \n",
    "  if optimizer == 'Adam':\n",
    "    opt = optimizers.Adam(learning_rate = learning_rate)\n",
    "  elif optimizer == 'Adagrad': \n",
    "    opt = optimizers.Adagrad(learning_rate = learning_rate)\n",
    "  elif optimizer == 'Nadam':\n",
    "    opt = optimizers.Nadam(learning_rate = learning_rate)\n",
    "  elif optimizer == 'Adadelta':\n",
    "    opt = optimizers.Adadelta(learning_rate= learning_rate)\n",
    "  elif optimizer == 'RMSprop':\n",
    "    opt = optimizers.RMSprop(learning_rate= learning_rate)\n",
    "  else:\n",
    "    print(\"No optimizer found in the list(['Adam', 'Adagrad','Nadam', 'Adadelta', 'RMSprop'])! Please apply your optimizer manually...\")\n",
    "\n",
    "  model.compile(loss='mean_squared_error', optimizer= opt)\n",
    "   \n",
    "  if verbose == 1:\n",
    "    print(model.summary())\n",
    "  return model"
   ]
  },
  {
   "cell_type": "markdown",
   "id": "e665c27d-969a-477e-8d0f-e793c469689b",
   "metadata": {},
   "source": [
    "**Testing**\n"
   ]
  },
  {
   "cell_type": "code",
   "execution_count": 12,
   "id": "0f7a3bd0-c901-4f21-a26c-39381388e3ae",
   "metadata": {},
   "outputs": [
    {
     "data": {
      "text/html": [
       "<pre style=\"white-space:pre;overflow-x:auto;line-height:normal;font-family:Menlo,'DejaVu Sans Mono',consolas,'Courier New',monospace\"><span style=\"font-weight: bold\">Model: \"sequential\"</span>\n",
       "</pre>\n"
      ],
      "text/plain": [
       "\u001b[1mModel: \"sequential\"\u001b[0m\n"
      ]
     },
     "metadata": {},
     "output_type": "display_data"
    },
    {
     "data": {
      "text/html": [
       "<pre style=\"white-space:pre;overflow-x:auto;line-height:normal;font-family:Menlo,'DejaVu Sans Mono',consolas,'Courier New',monospace\">┏━━━━━━━━━━━━━━━━━━━━━━━━━━━━━━━━━┳━━━━━━━━━━━━━━━━━━━━━━━━┳━━━━━━━━━━━━━━━┓\n",
       "┃<span style=\"font-weight: bold\"> Layer (type)                    </span>┃<span style=\"font-weight: bold\"> Output Shape           </span>┃<span style=\"font-weight: bold\">       Param # </span>┃\n",
       "┡━━━━━━━━━━━━━━━━━━━━━━━━━━━━━━━━━╇━━━━━━━━━━━━━━━━━━━━━━━━╇━━━━━━━━━━━━━━━┩\n",
       "│ lstm (<span style=\"color: #0087ff; text-decoration-color: #0087ff\">LSTM</span>)                     │ (<span style=\"color: #00d7ff; text-decoration-color: #00d7ff\">None</span>, <span style=\"color: #00af00; text-decoration-color: #00af00\">5</span>, <span style=\"color: #00af00; text-decoration-color: #00af00\">50</span>)          │        <span style=\"color: #00af00; text-decoration-color: #00af00\">12,200</span> │\n",
       "├─────────────────────────────────┼────────────────────────┼───────────────┤\n",
       "│ lstm_1 (<span style=\"color: #0087ff; text-decoration-color: #0087ff\">LSTM</span>)                   │ (<span style=\"color: #00d7ff; text-decoration-color: #00d7ff\">None</span>, <span style=\"color: #00af00; text-decoration-color: #00af00\">20</span>)             │         <span style=\"color: #00af00; text-decoration-color: #00af00\">5,680</span> │\n",
       "├─────────────────────────────────┼────────────────────────┼───────────────┤\n",
       "│ dense (<span style=\"color: #0087ff; text-decoration-color: #0087ff\">Dense</span>)                   │ (<span style=\"color: #00d7ff; text-decoration-color: #00d7ff\">None</span>, <span style=\"color: #00af00; text-decoration-color: #00af00\">1</span>)              │            <span style=\"color: #00af00; text-decoration-color: #00af00\">21</span> │\n",
       "└─────────────────────────────────┴────────────────────────┴───────────────┘\n",
       "</pre>\n"
      ],
      "text/plain": [
       "┏━━━━━━━━━━━━━━━━━━━━━━━━━━━━━━━━━┳━━━━━━━━━━━━━━━━━━━━━━━━┳━━━━━━━━━━━━━━━┓\n",
       "┃\u001b[1m \u001b[0m\u001b[1mLayer (type)                   \u001b[0m\u001b[1m \u001b[0m┃\u001b[1m \u001b[0m\u001b[1mOutput Shape          \u001b[0m\u001b[1m \u001b[0m┃\u001b[1m \u001b[0m\u001b[1m      Param #\u001b[0m\u001b[1m \u001b[0m┃\n",
       "┡━━━━━━━━━━━━━━━━━━━━━━━━━━━━━━━━━╇━━━━━━━━━━━━━━━━━━━━━━━━╇━━━━━━━━━━━━━━━┩\n",
       "│ lstm (\u001b[38;5;33mLSTM\u001b[0m)                     │ (\u001b[38;5;45mNone\u001b[0m, \u001b[38;5;34m5\u001b[0m, \u001b[38;5;34m50\u001b[0m)          │        \u001b[38;5;34m12,200\u001b[0m │\n",
       "├─────────────────────────────────┼────────────────────────┼───────────────┤\n",
       "│ lstm_1 (\u001b[38;5;33mLSTM\u001b[0m)                   │ (\u001b[38;5;45mNone\u001b[0m, \u001b[38;5;34m20\u001b[0m)             │         \u001b[38;5;34m5,680\u001b[0m │\n",
       "├─────────────────────────────────┼────────────────────────┼───────────────┤\n",
       "│ dense (\u001b[38;5;33mDense\u001b[0m)                   │ (\u001b[38;5;45mNone\u001b[0m, \u001b[38;5;34m1\u001b[0m)              │            \u001b[38;5;34m21\u001b[0m │\n",
       "└─────────────────────────────────┴────────────────────────┴───────────────┘\n"
      ]
     },
     "metadata": {},
     "output_type": "display_data"
    },
    {
     "data": {
      "text/html": [
       "<pre style=\"white-space:pre;overflow-x:auto;line-height:normal;font-family:Menlo,'DejaVu Sans Mono',consolas,'Courier New',monospace\"><span style=\"font-weight: bold\"> Total params: </span><span style=\"color: #00af00; text-decoration-color: #00af00\">17,901</span> (69.93 KB)\n",
       "</pre>\n"
      ],
      "text/plain": [
       "\u001b[1m Total params: \u001b[0m\u001b[38;5;34m17,901\u001b[0m (69.93 KB)\n"
      ]
     },
     "metadata": {},
     "output_type": "display_data"
    },
    {
     "data": {
      "text/html": [
       "<pre style=\"white-space:pre;overflow-x:auto;line-height:normal;font-family:Menlo,'DejaVu Sans Mono',consolas,'Courier New',monospace\"><span style=\"font-weight: bold\"> Trainable params: </span><span style=\"color: #00af00; text-decoration-color: #00af00\">17,901</span> (69.93 KB)\n",
       "</pre>\n"
      ],
      "text/plain": [
       "\u001b[1m Trainable params: \u001b[0m\u001b[38;5;34m17,901\u001b[0m (69.93 KB)\n"
      ]
     },
     "metadata": {},
     "output_type": "display_data"
    },
    {
     "data": {
      "text/html": [
       "<pre style=\"white-space:pre;overflow-x:auto;line-height:normal;font-family:Menlo,'DejaVu Sans Mono',consolas,'Courier New',monospace\"><span style=\"font-weight: bold\"> Non-trainable params: </span><span style=\"color: #00af00; text-decoration-color: #00af00\">0</span> (0.00 B)\n",
       "</pre>\n"
      ],
      "text/plain": [
       "\u001b[1m Non-trainable params: \u001b[0m\u001b[38;5;34m0\u001b[0m (0.00 B)\n"
      ]
     },
     "metadata": {},
     "output_type": "display_data"
    },
    {
     "name": "stdout",
     "output_type": "stream",
     "text": [
      "None\n"
     ]
    },
    {
     "data": {
      "text/plain": [
       "<Sequential name=sequential, built=True>"
      ]
     },
     "execution_count": 12,
     "metadata": {},
     "output_type": "execute_result"
    }
   ],
   "source": [
    "optimizers_names = ['Adam', 'Adagrad', 'Nadam']\n",
    "time_step = 5\n",
    "num_features = 10\n",
    "learning_rate = 0.001\n",
    "verbose = 1\n",
    "layers = [50,20]\n",
    "\n",
    "Build_LSTM_Model(layers, time_step, num_features, optimizer =  optimizers_names[0], learning_rate= learning_rate, verbose = verbose)"
   ]
  },
  {
   "cell_type": "markdown",
   "id": "c870d951-5ad8-4a61-aae8-bb4c198c6eb5",
   "metadata": {},
   "source": [
    "**2.Build and compile GRU Model**"
   ]
  },
  {
   "cell_type": "code",
   "execution_count": 13,
   "id": "f60f406a-f375-4c93-b031-7b95555a86ca",
   "metadata": {},
   "outputs": [],
   "source": [
    "def Build_GRU_Model(layers, time_step, num_features, optimizer = 'Adam', learning_rate = 0.001, verbose = 1):\n",
    "  \n",
    "  model = Sequential()\n",
    "    \n",
    "  for i in range(len(layers)):\n",
    "    if len(layers)==1:\n",
    "      model.add(GRU(int(layers[i]), input_shape = (time_step, num_features)))\n",
    "    else:\n",
    "      if i < len(layers)-1:\n",
    "        if i == 0:\n",
    "          model.add(GRU(int(layers[i]), input_shape=(time_step, num_features), return_sequences= True))\n",
    "          \n",
    "        else:\n",
    "          model.add(GRU(int(layers[i]), return_sequences=True))\n",
    "          \n",
    "      else:\n",
    "        model.add(GRU(int(layers[i])))\n",
    "         \n",
    "  model.add(Dense(1, activation = 'linear'))\n",
    "  \n",
    "  if optimizer == 'Adam':\n",
    "    opt = optimizers.Adam(learning_rate = learning_rate)\n",
    "  elif optimizer == 'Adagrad': \n",
    "    opt = optimizers.Adagrad(learning_rate = learning_rate)\n",
    "  elif optimizer == 'Nadam':\n",
    "    opt = optimizers.Nadam(learning_rate = learning_rate)\n",
    "  elif optimizer == 'Adadelta':\n",
    "    opt = optimizers.Adadelta(learning_rate= learning_rate)\n",
    "  elif optimizer == 'RMSprop':\n",
    "    opt = optimizers.RMSprop(learning_rate= learning_rate)\n",
    "  else:\n",
    "    print(\"No optimizer found in the list(['Adam', 'Adagrad','Nadam', 'Adadelta', 'RMSprop'])! Please apply your optimizer manually...\")\n",
    "\n",
    "  model.compile(loss='mean_squared_error', optimizer= opt)\n",
    "   \n",
    "  if verbose == 1:\n",
    "    print(model.summary())\n",
    "  return model"
   ]
  },
  {
   "cell_type": "markdown",
   "id": "e36ff30f-de69-4af0-825a-4741d66643ec",
   "metadata": {},
   "source": [
    "**Testing**"
   ]
  },
  {
   "cell_type": "code",
   "execution_count": 14,
   "id": "f6df1d75-b586-4c96-8331-af2cbf71efe2",
   "metadata": {},
   "outputs": [
    {
     "data": {
      "text/html": [
       "<pre style=\"white-space:pre;overflow-x:auto;line-height:normal;font-family:Menlo,'DejaVu Sans Mono',consolas,'Courier New',monospace\"><span style=\"font-weight: bold\">Model: \"sequential_1\"</span>\n",
       "</pre>\n"
      ],
      "text/plain": [
       "\u001b[1mModel: \"sequential_1\"\u001b[0m\n"
      ]
     },
     "metadata": {},
     "output_type": "display_data"
    },
    {
     "data": {
      "text/html": [
       "<pre style=\"white-space:pre;overflow-x:auto;line-height:normal;font-family:Menlo,'DejaVu Sans Mono',consolas,'Courier New',monospace\">┏━━━━━━━━━━━━━━━━━━━━━━━━━━━━━━━━━┳━━━━━━━━━━━━━━━━━━━━━━━━┳━━━━━━━━━━━━━━━┓\n",
       "┃<span style=\"font-weight: bold\"> Layer (type)                    </span>┃<span style=\"font-weight: bold\"> Output Shape           </span>┃<span style=\"font-weight: bold\">       Param # </span>┃\n",
       "┡━━━━━━━━━━━━━━━━━━━━━━━━━━━━━━━━━╇━━━━━━━━━━━━━━━━━━━━━━━━╇━━━━━━━━━━━━━━━┩\n",
       "│ gru (<span style=\"color: #0087ff; text-decoration-color: #0087ff\">GRU</span>)                       │ (<span style=\"color: #00d7ff; text-decoration-color: #00d7ff\">None</span>, <span style=\"color: #00af00; text-decoration-color: #00af00\">5</span>, <span style=\"color: #00af00; text-decoration-color: #00af00\">50</span>)          │         <span style=\"color: #00af00; text-decoration-color: #00af00\">9,150</span> │\n",
       "├─────────────────────────────────┼────────────────────────┼───────────────┤\n",
       "│ gru_1 (<span style=\"color: #0087ff; text-decoration-color: #0087ff\">GRU</span>)                     │ (<span style=\"color: #00d7ff; text-decoration-color: #00d7ff\">None</span>, <span style=\"color: #00af00; text-decoration-color: #00af00\">20</span>)             │         <span style=\"color: #00af00; text-decoration-color: #00af00\">4,320</span> │\n",
       "├─────────────────────────────────┼────────────────────────┼───────────────┤\n",
       "│ dense_1 (<span style=\"color: #0087ff; text-decoration-color: #0087ff\">Dense</span>)                 │ (<span style=\"color: #00d7ff; text-decoration-color: #00d7ff\">None</span>, <span style=\"color: #00af00; text-decoration-color: #00af00\">1</span>)              │            <span style=\"color: #00af00; text-decoration-color: #00af00\">21</span> │\n",
       "└─────────────────────────────────┴────────────────────────┴───────────────┘\n",
       "</pre>\n"
      ],
      "text/plain": [
       "┏━━━━━━━━━━━━━━━━━━━━━━━━━━━━━━━━━┳━━━━━━━━━━━━━━━━━━━━━━━━┳━━━━━━━━━━━━━━━┓\n",
       "┃\u001b[1m \u001b[0m\u001b[1mLayer (type)                   \u001b[0m\u001b[1m \u001b[0m┃\u001b[1m \u001b[0m\u001b[1mOutput Shape          \u001b[0m\u001b[1m \u001b[0m┃\u001b[1m \u001b[0m\u001b[1m      Param #\u001b[0m\u001b[1m \u001b[0m┃\n",
       "┡━━━━━━━━━━━━━━━━━━━━━━━━━━━━━━━━━╇━━━━━━━━━━━━━━━━━━━━━━━━╇━━━━━━━━━━━━━━━┩\n",
       "│ gru (\u001b[38;5;33mGRU\u001b[0m)                       │ (\u001b[38;5;45mNone\u001b[0m, \u001b[38;5;34m5\u001b[0m, \u001b[38;5;34m50\u001b[0m)          │         \u001b[38;5;34m9,150\u001b[0m │\n",
       "├─────────────────────────────────┼────────────────────────┼───────────────┤\n",
       "│ gru_1 (\u001b[38;5;33mGRU\u001b[0m)                     │ (\u001b[38;5;45mNone\u001b[0m, \u001b[38;5;34m20\u001b[0m)             │         \u001b[38;5;34m4,320\u001b[0m │\n",
       "├─────────────────────────────────┼────────────────────────┼───────────────┤\n",
       "│ dense_1 (\u001b[38;5;33mDense\u001b[0m)                 │ (\u001b[38;5;45mNone\u001b[0m, \u001b[38;5;34m1\u001b[0m)              │            \u001b[38;5;34m21\u001b[0m │\n",
       "└─────────────────────────────────┴────────────────────────┴───────────────┘\n"
      ]
     },
     "metadata": {},
     "output_type": "display_data"
    },
    {
     "data": {
      "text/html": [
       "<pre style=\"white-space:pre;overflow-x:auto;line-height:normal;font-family:Menlo,'DejaVu Sans Mono',consolas,'Courier New',monospace\"><span style=\"font-weight: bold\"> Total params: </span><span style=\"color: #00af00; text-decoration-color: #00af00\">13,491</span> (52.70 KB)\n",
       "</pre>\n"
      ],
      "text/plain": [
       "\u001b[1m Total params: \u001b[0m\u001b[38;5;34m13,491\u001b[0m (52.70 KB)\n"
      ]
     },
     "metadata": {},
     "output_type": "display_data"
    },
    {
     "data": {
      "text/html": [
       "<pre style=\"white-space:pre;overflow-x:auto;line-height:normal;font-family:Menlo,'DejaVu Sans Mono',consolas,'Courier New',monospace\"><span style=\"font-weight: bold\"> Trainable params: </span><span style=\"color: #00af00; text-decoration-color: #00af00\">13,491</span> (52.70 KB)\n",
       "</pre>\n"
      ],
      "text/plain": [
       "\u001b[1m Trainable params: \u001b[0m\u001b[38;5;34m13,491\u001b[0m (52.70 KB)\n"
      ]
     },
     "metadata": {},
     "output_type": "display_data"
    },
    {
     "data": {
      "text/html": [
       "<pre style=\"white-space:pre;overflow-x:auto;line-height:normal;font-family:Menlo,'DejaVu Sans Mono',consolas,'Courier New',monospace\"><span style=\"font-weight: bold\"> Non-trainable params: </span><span style=\"color: #00af00; text-decoration-color: #00af00\">0</span> (0.00 B)\n",
       "</pre>\n"
      ],
      "text/plain": [
       "\u001b[1m Non-trainable params: \u001b[0m\u001b[38;5;34m0\u001b[0m (0.00 B)\n"
      ]
     },
     "metadata": {},
     "output_type": "display_data"
    },
    {
     "name": "stdout",
     "output_type": "stream",
     "text": [
      "None\n"
     ]
    },
    {
     "data": {
      "text/plain": [
       "<Sequential name=sequential_1, built=True>"
      ]
     },
     "execution_count": 14,
     "metadata": {},
     "output_type": "execute_result"
    }
   ],
   "source": [
    "optimizers_names = ['Adam', 'Adagrad', 'Nadam']\n",
    "time_step = 5\n",
    "num_features = 9\n",
    "learning_rate = 0.001\n",
    "verbose = 1\n",
    "layers = [50,20]\n",
    "\n",
    "Build_GRU_Model(layers, time_step, num_features, optimizer =  optimizers_names[0], learning_rate= learning_rate, verbose = verbose)"
   ]
  },
  {
   "cell_type": "markdown",
   "id": "6838a513-4f2f-4ec1-a4ea-705c37c0b75c",
   "metadata": {},
   "source": [
    "**3.Build and compile CNN Model**"
   ]
  },
  {
   "cell_type": "code",
   "execution_count": 23,
   "id": "1338b5cc-529e-4c2f-999d-d55599ac60bf",
   "metadata": {},
   "outputs": [],
   "source": [
    "def Build_CNN_Model(conv_layers,kernel_size,max_pool_size,time_step,num_features,optimizer='Adam',learning_rate=0.001,verbose=1):\n",
    "\n",
    "  model=Sequential()\n",
    "\n",
    "  for i in range(len(conv_layers)):\n",
    "    if len(conv_layers)==1:\n",
    "      model.add(Conv1D(conv_layers[i],kernel_size,activation='relu',strides=1,padding='valid',input_shape=(time_step,num_features)))  #valid means no padding \n",
    "      model.add(MaxPooling1D(max_pool_size,strides=2))\n",
    "  else:\n",
    "       model.add(Conv1D(conv_layers[i],kernel_size,activation='relu',strides=1,padding='valid'))\n",
    "       model.add(MaxPooling1D(max_pool_size,strides=2))\n",
    "\n",
    "  model.add(Flatten())\n",
    "  model.add(Dense(20,activation='relu'))\n",
    "  model.add(Dense(1,activation='linear'))     #fully connected layers \n",
    "\n",
    "  if optimizer=='Adam':\n",
    "    opt=optimizers.Adam(learning_rate=learning_rate)\n",
    "  elif optimizer=='Adagrad':\n",
    "    opt=optimizers.Adagrad(learning_rate=learning_rate)\n",
    "  elif optimizer=='Nadam':\n",
    "    opt=optimizers.Nadam(learning_rate=learning_rate)\n",
    "  elif optimizer=='Adadelta':\n",
    "    opt=optimizers.Adadelta(learning_rate=learning_rate)\n",
    "  elif optimizer=='RMSprop':\n",
    "    opt=optimizers.RMSprop(learning_rate=learning_rate)\n",
    "  else:\n",
    "    print(\"No optimizer found in the list(['Adam', 'Adagrad','Nadam', 'Adadelta', 'RMSprop'])! Please apply your optimizer manually...\")\n",
    "\n",
    "  model.compile(loss='mean_squared_error',optimizer=opt)\n",
    "\n",
    "  if verbose==1:\n",
    "     print(model.summary())\n",
    "  return model     \n"
   ]
  },
  {
   "cell_type": "markdown",
   "id": "e2dd5085-6d36-4866-a37b-0cec8708ee6a",
   "metadata": {},
   "source": [
    "**Testing**"
   ]
  },
  {
   "cell_type": "code",
   "execution_count": 24,
   "id": "f0df53c8-bf45-4c04-9527-863b055f4819",
   "metadata": {},
   "outputs": [
    {
     "data": {
      "text/html": [
       "<pre style=\"white-space:pre;overflow-x:auto;line-height:normal;font-family:Menlo,'DejaVu Sans Mono',consolas,'Courier New',monospace\"><span style=\"font-weight: bold\">Model: \"sequential_2\"</span>\n",
       "</pre>\n"
      ],
      "text/plain": [
       "\u001b[1mModel: \"sequential_2\"\u001b[0m\n"
      ]
     },
     "metadata": {},
     "output_type": "display_data"
    },
    {
     "data": {
      "text/html": [
       "<pre style=\"white-space:pre;overflow-x:auto;line-height:normal;font-family:Menlo,'DejaVu Sans Mono',consolas,'Courier New',monospace\">┏━━━━━━━━━━━━━━━━━━━━━━━━━━━━━━━━━┳━━━━━━━━━━━━━━━━━━━━━━━━┳━━━━━━━━━━━━━━━┓\n",
       "┃<span style=\"font-weight: bold\"> Layer (type)                    </span>┃<span style=\"font-weight: bold\"> Output Shape           </span>┃<span style=\"font-weight: bold\">       Param # </span>┃\n",
       "┡━━━━━━━━━━━━━━━━━━━━━━━━━━━━━━━━━╇━━━━━━━━━━━━━━━━━━━━━━━━╇━━━━━━━━━━━━━━━┩\n",
       "│ conv1d (<span style=\"color: #0087ff; text-decoration-color: #0087ff\">Conv1D</span>)                 │ (<span style=\"color: #00d7ff; text-decoration-color: #00d7ff\">None</span>, <span style=\"color: #00af00; text-decoration-color: #00af00\">4</span>, <span style=\"color: #00af00; text-decoration-color: #00af00\">64</span>)          │         <span style=\"color: #00af00; text-decoration-color: #00af00\">1,216</span> │\n",
       "├─────────────────────────────────┼────────────────────────┼───────────────┤\n",
       "│ max_pooling1d (<span style=\"color: #0087ff; text-decoration-color: #0087ff\">MaxPooling1D</span>)    │ (<span style=\"color: #00d7ff; text-decoration-color: #00d7ff\">None</span>, <span style=\"color: #00af00; text-decoration-color: #00af00\">2</span>, <span style=\"color: #00af00; text-decoration-color: #00af00\">64</span>)          │             <span style=\"color: #00af00; text-decoration-color: #00af00\">0</span> │\n",
       "├─────────────────────────────────┼────────────────────────┼───────────────┤\n",
       "│ conv1d_1 (<span style=\"color: #0087ff; text-decoration-color: #0087ff\">Conv1D</span>)               │ (<span style=\"color: #00d7ff; text-decoration-color: #00d7ff\">None</span>, <span style=\"color: #00af00; text-decoration-color: #00af00\">1</span>, <span style=\"color: #00af00; text-decoration-color: #00af00\">64</span>)          │         <span style=\"color: #00af00; text-decoration-color: #00af00\">8,256</span> │\n",
       "├─────────────────────────────────┼────────────────────────┼───────────────┤\n",
       "│ max_pooling1d_1 (<span style=\"color: #0087ff; text-decoration-color: #0087ff\">MaxPooling1D</span>)  │ (<span style=\"color: #00d7ff; text-decoration-color: #00d7ff\">None</span>, <span style=\"color: #00af00; text-decoration-color: #00af00\">0</span>, <span style=\"color: #00af00; text-decoration-color: #00af00\">64</span>)          │             <span style=\"color: #00af00; text-decoration-color: #00af00\">0</span> │\n",
       "├─────────────────────────────────┼────────────────────────┼───────────────┤\n",
       "│ flatten (<span style=\"color: #0087ff; text-decoration-color: #0087ff\">Flatten</span>)               │ (<span style=\"color: #00d7ff; text-decoration-color: #00d7ff\">None</span>, <span style=\"color: #00af00; text-decoration-color: #00af00\">0</span>)              │             <span style=\"color: #00af00; text-decoration-color: #00af00\">0</span> │\n",
       "├─────────────────────────────────┼────────────────────────┼───────────────┤\n",
       "│ dense_2 (<span style=\"color: #0087ff; text-decoration-color: #0087ff\">Dense</span>)                 │ (<span style=\"color: #00d7ff; text-decoration-color: #00d7ff\">None</span>, <span style=\"color: #00af00; text-decoration-color: #00af00\">20</span>)             │            <span style=\"color: #00af00; text-decoration-color: #00af00\">20</span> │\n",
       "├─────────────────────────────────┼────────────────────────┼───────────────┤\n",
       "│ dense_3 (<span style=\"color: #0087ff; text-decoration-color: #0087ff\">Dense</span>)                 │ (<span style=\"color: #00d7ff; text-decoration-color: #00d7ff\">None</span>, <span style=\"color: #00af00; text-decoration-color: #00af00\">1</span>)              │            <span style=\"color: #00af00; text-decoration-color: #00af00\">21</span> │\n",
       "└─────────────────────────────────┴────────────────────────┴───────────────┘\n",
       "</pre>\n"
      ],
      "text/plain": [
       "┏━━━━━━━━━━━━━━━━━━━━━━━━━━━━━━━━━┳━━━━━━━━━━━━━━━━━━━━━━━━┳━━━━━━━━━━━━━━━┓\n",
       "┃\u001b[1m \u001b[0m\u001b[1mLayer (type)                   \u001b[0m\u001b[1m \u001b[0m┃\u001b[1m \u001b[0m\u001b[1mOutput Shape          \u001b[0m\u001b[1m \u001b[0m┃\u001b[1m \u001b[0m\u001b[1m      Param #\u001b[0m\u001b[1m \u001b[0m┃\n",
       "┡━━━━━━━━━━━━━━━━━━━━━━━━━━━━━━━━━╇━━━━━━━━━━━━━━━━━━━━━━━━╇━━━━━━━━━━━━━━━┩\n",
       "│ conv1d (\u001b[38;5;33mConv1D\u001b[0m)                 │ (\u001b[38;5;45mNone\u001b[0m, \u001b[38;5;34m4\u001b[0m, \u001b[38;5;34m64\u001b[0m)          │         \u001b[38;5;34m1,216\u001b[0m │\n",
       "├─────────────────────────────────┼────────────────────────┼───────────────┤\n",
       "│ max_pooling1d (\u001b[38;5;33mMaxPooling1D\u001b[0m)    │ (\u001b[38;5;45mNone\u001b[0m, \u001b[38;5;34m2\u001b[0m, \u001b[38;5;34m64\u001b[0m)          │             \u001b[38;5;34m0\u001b[0m │\n",
       "├─────────────────────────────────┼────────────────────────┼───────────────┤\n",
       "│ conv1d_1 (\u001b[38;5;33mConv1D\u001b[0m)               │ (\u001b[38;5;45mNone\u001b[0m, \u001b[38;5;34m1\u001b[0m, \u001b[38;5;34m64\u001b[0m)          │         \u001b[38;5;34m8,256\u001b[0m │\n",
       "├─────────────────────────────────┼────────────────────────┼───────────────┤\n",
       "│ max_pooling1d_1 (\u001b[38;5;33mMaxPooling1D\u001b[0m)  │ (\u001b[38;5;45mNone\u001b[0m, \u001b[38;5;34m0\u001b[0m, \u001b[38;5;34m64\u001b[0m)          │             \u001b[38;5;34m0\u001b[0m │\n",
       "├─────────────────────────────────┼────────────────────────┼───────────────┤\n",
       "│ flatten (\u001b[38;5;33mFlatten\u001b[0m)               │ (\u001b[38;5;45mNone\u001b[0m, \u001b[38;5;34m0\u001b[0m)              │             \u001b[38;5;34m0\u001b[0m │\n",
       "├─────────────────────────────────┼────────────────────────┼───────────────┤\n",
       "│ dense_2 (\u001b[38;5;33mDense\u001b[0m)                 │ (\u001b[38;5;45mNone\u001b[0m, \u001b[38;5;34m20\u001b[0m)             │            \u001b[38;5;34m20\u001b[0m │\n",
       "├─────────────────────────────────┼────────────────────────┼───────────────┤\n",
       "│ dense_3 (\u001b[38;5;33mDense\u001b[0m)                 │ (\u001b[38;5;45mNone\u001b[0m, \u001b[38;5;34m1\u001b[0m)              │            \u001b[38;5;34m21\u001b[0m │\n",
       "└─────────────────────────────────┴────────────────────────┴───────────────┘\n"
      ]
     },
     "metadata": {},
     "output_type": "display_data"
    },
    {
     "data": {
      "text/html": [
       "<pre style=\"white-space:pre;overflow-x:auto;line-height:normal;font-family:Menlo,'DejaVu Sans Mono',consolas,'Courier New',monospace\"><span style=\"font-weight: bold\"> Total params: </span><span style=\"color: #00af00; text-decoration-color: #00af00\">9,513</span> (37.16 KB)\n",
       "</pre>\n"
      ],
      "text/plain": [
       "\u001b[1m Total params: \u001b[0m\u001b[38;5;34m9,513\u001b[0m (37.16 KB)\n"
      ]
     },
     "metadata": {},
     "output_type": "display_data"
    },
    {
     "data": {
      "text/html": [
       "<pre style=\"white-space:pre;overflow-x:auto;line-height:normal;font-family:Menlo,'DejaVu Sans Mono',consolas,'Courier New',monospace\"><span style=\"font-weight: bold\"> Trainable params: </span><span style=\"color: #00af00; text-decoration-color: #00af00\">9,513</span> (37.16 KB)\n",
       "</pre>\n"
      ],
      "text/plain": [
       "\u001b[1m Trainable params: \u001b[0m\u001b[38;5;34m9,513\u001b[0m (37.16 KB)\n"
      ]
     },
     "metadata": {},
     "output_type": "display_data"
    },
    {
     "data": {
      "text/html": [
       "<pre style=\"white-space:pre;overflow-x:auto;line-height:normal;font-family:Menlo,'DejaVu Sans Mono',consolas,'Courier New',monospace\"><span style=\"font-weight: bold\"> Non-trainable params: </span><span style=\"color: #00af00; text-decoration-color: #00af00\">0</span> (0.00 B)\n",
       "</pre>\n"
      ],
      "text/plain": [
       "\u001b[1m Non-trainable params: \u001b[0m\u001b[38;5;34m0\u001b[0m (0.00 B)\n"
      ]
     },
     "metadata": {},
     "output_type": "display_data"
    },
    {
     "name": "stdout",
     "output_type": "stream",
     "text": [
      "None\n"
     ]
    },
    {
     "data": {
      "text/plain": [
       "<Sequential name=sequential_2, built=True>"
      ]
     },
     "execution_count": 24,
     "metadata": {},
     "output_type": "execute_result"
    }
   ],
   "source": [
    "optimisers_names=['Adam','Adagrad','Nadam']\n",
    "time_step=5\n",
    "num_features=9\n",
    "learning_rate=0.001\n",
    "verbose=1\n",
    "conv_layers=[64]\n",
    "kernel_size=2\n",
    "max_pool_size=2\n",
    "\n",
    "Build_CNN_Model(conv_layers,kernel_size,max_pool_size,time_step,num_features,optimizer=optimizers_names[0],learning_rate=learning_rate,verbose=verbose)"
   ]
  },
  {
   "cell_type": "code",
   "execution_count": null,
   "id": "4aa546d6-1ade-437e-9a05-2bac4cef282a",
   "metadata": {},
   "outputs": [],
   "source": []
  }
 ],
 "metadata": {
  "kernelspec": {
   "display_name": "Python 3 (ipykernel)",
   "language": "python",
   "name": "python3"
  },
  "language_info": {
   "codemirror_mode": {
    "name": "ipython",
    "version": 3
   },
   "file_extension": ".py",
   "mimetype": "text/x-python",
   "name": "python",
   "nbconvert_exporter": "python",
   "pygments_lexer": "ipython3",
   "version": "3.10.11"
  }
 },
 "nbformat": 4,
 "nbformat_minor": 5
}
